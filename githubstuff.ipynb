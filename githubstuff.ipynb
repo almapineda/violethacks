{
 "cells": [
  {
   "cell_type": "code",
   "execution_count": 1,
   "metadata": {},
   "outputs": [
    {
     "name": "stdout",
     "output_type": "stream",
     "text": [
      "Mind your words, they are important."
     ]
    }
   ],
   "source": [
    "!curl https://api.github.com/zen"
   ]
  },
  {
   "cell_type": "code",
   "execution_count": 2,
   "metadata": {},
   "outputs": [
    {
     "name": "stdout",
     "output_type": "stream",
     "text": [
      "{\n",
      "  \"login\": \"defunkt\",\n",
      "  \"id\": 2,\n",
      "  \"node_id\": \"MDQ6VXNlcjI=\",\n",
      "  \"avatar_url\": \"https://avatars0.githubusercontent.com/u/2?v=4\",\n",
      "  \"gravatar_id\": \"\",\n",
      "  \"url\": \"https://api.github.com/users/defunkt\",\n",
      "  \"html_url\": \"https://github.com/defunkt\",\n",
      "  \"followers_url\": \"https://api.github.com/users/defunkt/followers\",\n",
      "  \"following_url\": \"https://api.github.com/users/defunkt/following{/other_user}\",\n",
      "  \"gists_url\": \"https://api.github.com/users/defunkt/gists{/gist_id}\",\n",
      "  \"starred_url\": \"https://api.github.com/users/defunkt/starred{/owner}{/repo}\",\n",
      "  \"subscriptions_url\": \"https://api.github.com/users/defunkt/subscriptions\",\n",
      "  \"organizations_url\": \"https://api.github.com/users/defunkt/orgs\",\n",
      "  \"repos_url\": \"https://api.github.com/users/defunkt/repos\",\n",
      "  \"events_url\": \"https://api.github.com/users/defunkt/events{/privacy}\",\n",
      "  \"received_events_url\": \"https://api.github.com/users/defunkt/received_events\",\n",
      "  \"type\": \"User\",\n",
      "  \"site_admin\": false,\n",
      "  \"name\": \"Chris Wanstrath\",\n",
      "  \"company\": null,\n",
      "  \"blog\": \"http://chriswanstrath.com/\",\n",
      "  \"location\": null,\n",
      "  \"email\": null,\n",
      "  \"hireable\": null,\n",
      "  \"bio\": \"🍔\",\n",
      "  \"public_repos\": 107,\n",
      "  \"public_gists\": 273,\n",
      "  \"followers\": 20776,\n",
      "  \"following\": 210,\n",
      "  \"created_at\": \"2007-10-20T05:24:19Z\",\n",
      "  \"updated_at\": \"2019-02-15T18:05:47Z\"\n",
      "}\n"
     ]
    }
   ],
   "source": [
    "!curl https://api.github.com/users/defunkt"
   ]
  },
  {
   "cell_type": "code",
   "execution_count": 4,
   "metadata": {},
   "outputs": [
    {
     "name": "stdout",
     "output_type": "stream",
     "text": [
      "HTTP/1.1 200 OK\n",
      "\u001b[1mDate\u001b[0m: Sat, 10 Aug 2019 22:00:21 GMT\n",
      "\u001b[1mContent-Type\u001b[0m: application/json; charset=utf-8\n",
      "\u001b[1mContent-Length\u001b[0m: 1460\n",
      "\u001b[1mServer\u001b[0m: GitHub.com\n",
      "\u001b[1mStatus\u001b[0m: 200 OK\n",
      "\u001b[1mX-RateLimit-Limit\u001b[0m: 60\n",
      "\u001b[1mX-RateLimit-Remaining\u001b[0m: 25\n",
      "\u001b[1mX-RateLimit-Reset\u001b[0m: 1565476541\n",
      "\u001b[1mCache-Control\u001b[0m: public, max-age=60, s-maxage=60\n",
      "\u001b[1mVary\u001b[0m: Accept\n",
      "\u001b[1mETag\u001b[0m: \"d8360fa46afde14a65d07f23e26c45cd\"\n",
      "\u001b[1mLast-Modified\u001b[0m: Thu, 08 Aug 2019 20:24:20 GMT\n",
      "\u001b[1mX-GitHub-Media-Type\u001b[0m: github.v3; format=json\n",
      "\u001b[1mAccess-Control-Expose-Headers\u001b[0m: ETag, Link, Location, Retry-After, X-GitHub-OTP, X-RateLimit-Limit, X-RateLimit-Remaining, X-RateLimit-Reset, X-OAuth-Scopes, X-Accepted-OAuth-Scopes, X-Poll-Interval, X-GitHub-Media-Type\n",
      "\u001b[1mAccess-Control-Allow-Origin\u001b[0m: *\n",
      "\u001b[1mStrict-Transport-Security\u001b[0m: max-age=31536000; includeSubdomains; preload\n",
      "\u001b[1mX-Frame-Options\u001b[0m: deny\n",
      "\u001b[1mX-Content-Type-Options\u001b[0m: nosniff\n",
      "\u001b[1mX-XSS-Protection\u001b[0m: 1; mode=block\n",
      "\u001b[1mReferrer-Policy\u001b[0m: origin-when-cross-origin, strict-origin-when-cross-origin\n",
      "\u001b[1mContent-Security-Policy\u001b[0m: default-src 'none'\n",
      "\u001b[1mVary\u001b[0m: Accept-Encoding\n",
      "\u001b[1mX-GitHub-Request-Id\u001b[0m: C55F:34E9:14DA660:192A85D:5D4F3E75\n",
      "\n",
      "{\n",
      "  \"login\": \"almapineda\",\n",
      "  \"id\": 42334131,\n",
      "  \"node_id\": \"MDQ6VXNlcjQyMzM0MTMx\",\n",
      "  \"avatar_url\": \"https://avatars0.githubusercontent.com/u/42334131?v=4\",\n",
      "  \"gravatar_id\": \"\",\n",
      "  \"url\": \"https://api.github.com/users/almapineda\",\n",
      "  \"html_url\": \"https://github.com/almapineda\",\n",
      "  \"followers_url\": \"https://api.github.com/users/almapineda/followers\",\n",
      "  \"following_url\": \"https://api.github.com/users/almapineda/following{/other_user}\",\n",
      "  \"gists_url\": \"https://api.github.com/users/almapineda/gists{/gist_id}\",\n",
      "  \"starred_url\": \"https://api.github.com/users/almapineda/starred{/owner}{/repo}\",\n",
      "  \"subscriptions_url\": \"https://api.github.com/users/almapineda/subscriptions\",\n",
      "  \"organizations_url\": \"https://api.github.com/users/almapineda/orgs\",\n",
      "  \"repos_url\": \"https://api.github.com/users/almapineda/repos\",\n",
      "  \"events_url\": \"https://api.github.com/users/almapineda/events{/privacy}\",\n",
      "  \"received_events_url\": \"https://api.github.com/users/almapineda/received_events\",\n",
      "  \"type\": \"User\",\n",
      "  \"site_admin\": false,\n",
      "  \"name\": \"Alma Pineda\",\n",
      "  \"company\": null,\n",
      "  \"blog\": \"\",\n",
      "  \"location\": \"Berkeley, CA\",\n",
      "  \"email\": null,\n",
      "  \"hireable\": null,\n",
      "  \"bio\": \"I am a transfer student at UC Berkeley double-majoring in Applied Mathematics and Data Science. My interests include neural networks & data sci accessibility.\",\n",
      "  \"public_repos\": 5,\n",
      "  \"public_gists\": 0,\n",
      "  \"followers\": 1,\n",
      "  \"following\": 0,\n",
      "  \"created_at\": \"2018-08-13T05:52:18Z\",\n",
      "  \"updated_at\": \"2019-08-08T20:24:20Z\"\n",
      "}\n"
     ]
    }
   ],
   "source": [
    "!curl -i https://api.github.com/users/almapineda -i"
   ]
  },
  {
   "cell_type": "code",
   "execution_count": null,
   "metadata": {},
   "outputs": [],
   "source": []
  }
 ],
 "metadata": {
  "kernelspec": {
   "display_name": "Python 3",
   "language": "python",
   "name": "python3"
  },
  "language_info": {
   "codemirror_mode": {
    "name": "ipython",
    "version": 3
   },
   "file_extension": ".py",
   "mimetype": "text/x-python",
   "name": "python",
   "nbconvert_exporter": "python",
   "pygments_lexer": "ipython3",
   "version": "3.7.3"
  }
 },
 "nbformat": 4,
 "nbformat_minor": 2
}
